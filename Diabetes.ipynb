{
 "cells": [
  {
   "cell_type": "markdown",
   "id": "33d96070",
   "metadata": {},
   "source": [
    "# Chargement et Analyse exploratoire des données (EDA)"
   ]
  },
  {
   "cell_type": "markdown",
   "id": "50efbc6e",
   "metadata": {},
   "source": [
    "## Chargement des Données"
   ]
  },
  {
   "cell_type": "code",
   "execution_count": 2,
   "id": "9e5fadaa",
   "metadata": {},
   "outputs": [],
   "source": [
    "import pandas as pd\n",
    "\n",
    "df = pd.read_csv(\"dataset-diabetes.csv\")"
   ]
  },
  {
   "cell_type": "markdown",
   "id": "77d111c1",
   "metadata": {},
   "source": [
    "## Comprendre la structure générale du jeu de données"
   ]
  },
  {
   "cell_type": "code",
   "execution_count": 16,
   "id": "ed08cb63",
   "metadata": {},
   "outputs": [
    {
     "name": "stdout",
     "output_type": "stream",
     "text": [
      "Unnamed: 0                    int64\n",
      "Pregnancies                   int64\n",
      "Glucose                       int64\n",
      "BloodPressure                 int64\n",
      "SkinThickness                 int64\n",
      "Insulin                       int64\n",
      "BMI                         float64\n",
      "DiabetesPedigreeFunction    float64\n",
      "Age                           int64\n",
      "dtype: object\n",
      "\n",
      "\n",
      "Dimensions: (768, 9)\n",
      "Le nombre des lignes est: 768\n",
      "Le nombre de colonnes est: 9\n",
      "\n",
      "\n",
      "   Unnamed: 0  Pregnancies  Glucose  BloodPressure  SkinThickness  Insulin   BMI  DiabetesPedigreeFunction  Age\n",
      "0           0            6      148             72             35        0  33.6                     0.627   50\n",
      "1           1            1       85             66             29        0  26.6                     0.351   31\n",
      "2           2            8      183             64              0        0  23.3                     0.672   32\n",
      "3           3            1       89             66             23       94  28.1                     0.167   21\n",
      "4           4            0      137             40             35      168  43.1                     2.288   33\n",
      "\n",
      "\n",
      "     Unnamed: 0  Pregnancies  Glucose  BloodPressure  SkinThickness  Insulin   BMI  DiabetesPedigreeFunction  Age\n",
      "763         763           10      101             76             48      180  32.9                     0.171   63\n",
      "764         764            2      122             70             27        0  36.8                     0.340   27\n",
      "765         765            5      121             72             23      112  26.2                     0.245   30\n",
      "766         766            1      126             60              0        0  30.1                     0.349   47\n",
      "767         767            1       93             70             31        0  30.4                     0.315   23\n",
      "\n",
      "\n",
      "     Unnamed: 0  Pregnancies  Glucose  BloodPressure  SkinThickness  Insulin   BMI  DiabetesPedigreeFunction  Age\n",
      "409         409            1      172             68             49      579  42.4                     0.702   28\n",
      "184         184            4      141             74              0        0  27.6                     0.244   40\n",
      "235         235            4      171             72              0        0  43.6                     0.479   26\n",
      "521         521            3      124             80             33      130  33.2                     0.305   26\n",
      "327         327           10      179             70              0        0  35.1                     0.200   37\n"
     ]
    }
   ],
   "source": [
    "df_1 = df.drop(columns=[\"Unnamed: 0\"])\n",
    "\n",
    "pd.set_option('display.width', 500)\n",
    "\n",
    "print(df.dtypes)\n",
    "\n",
    "print(\"\\n\")\n",
    "\n",
    "print(\"Dimensions:\", df.shape)\n",
    "\n",
    "print(\"Le nombre des lignes est:\", df.shape[0])\n",
    "\n",
    "print(\"Le nombre de colonnes est:\", df.shape[1])\n",
    "\n",
    "print(\"\\n\")\n",
    "\n",
    "print(df.head())\n",
    "\n",
    "print(\"\\n\")\n",
    "\n",
    "print(df.tail())\n",
    "\n",
    "print(\"\\n\")\n",
    "\n",
    "print(df.sample(5))\n",
    "\n",
    "df_1 = df.drop(columns=[\"Unnamed: 0\"])"
   ]
  },
  {
   "cell_type": "code",
   "execution_count": null,
   "id": "d3953d77",
   "metadata": {},
   "outputs": [],
   "source": []
  }
 ],
 "metadata": {
  "kernelspec": {
   "display_name": "Python 3",
   "language": "python",
   "name": "python3"
  },
  "language_info": {
   "codemirror_mode": {
    "name": "ipython",
    "version": 3
   },
   "file_extension": ".py",
   "mimetype": "text/x-python",
   "name": "python",
   "nbconvert_exporter": "python",
   "pygments_lexer": "ipython3",
   "version": "3.13.7"
  }
 },
 "nbformat": 4,
 "nbformat_minor": 5
}
